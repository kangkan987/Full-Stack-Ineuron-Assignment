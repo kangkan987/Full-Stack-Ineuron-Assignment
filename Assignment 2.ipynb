{
 "cells": [
  {
   "cell_type": "markdown",
   "metadata": {},
   "source": [
    "Q1. What are the Boolean data type's two values? How do you go about writing them?"
   ]
  },
  {
   "cell_type": "markdown",
   "metadata": {},
   "source": [
    "Ans1: True and False are two Boolean data type Values. We have to write them in Capitalize form."
   ]
  },
  {
   "cell_type": "markdown",
   "metadata": {},
   "source": [
    "Q2. What are the three different types of Boolean operators?"
   ]
  },
  {
   "cell_type": "markdown",
   "metadata": {},
   "source": [
    "Ans2: The three different types of Boolean operators are and, or, not."
   ]
  },
  {
   "cell_type": "markdown",
   "metadata": {},
   "source": [
    "Q3. Make a list of each Boolean operator's truth tables (i.e. every possible combination of Boolean values for the operator and what it evaluate )."
   ]
  },
  {
   "cell_type": "code",
   "execution_count": 1,
   "metadata": {},
   "outputs": [
    {
     "name": "stdout",
     "output_type": "stream",
     "text": [
      " Truth Table: \n",
      " \n",
      " True and False = False \n",
      " False and True = False \n",
      " True or False = True \n",
      " False or True = True \n",
      " not True = False \n",
      " not False =  True \n",
      " True and True = True \n",
      " False and False = False \n",
      " True or True = True \n",
      " False or False = False\n"
     ]
    }
   ],
   "source": [
    "#Ans3:\n",
    "a = True\n",
    "b = False\n",
    "if a == True:\n",
    "    print(\" Truth Table:\",'\\n','\\n',\"True and False =\",True and False,'\\n',\"False and True =\",False and True,'\\n',\"True or False =\",True or False,\n",
    "         '\\n',\"False or True =\",False or True,'\\n',\"not True =\",not True,'\\n',\"not False = \",not False,'\\n','True and True =',True and True,\n",
    "          '\\n','False and False =',False and False,'\\n','True or True =',True or True,'\\n','False or False =',False or False)"
   ]
  },
  {
   "cell_type": "markdown",
   "metadata": {},
   "source": [
    "Q4. What are the values of the following expressions?\n",
    "(5 > 4) and (3 == 5), not (5 > 4), (5 > 4) or (3 == 5), not ((5 > 4) or (3 == 5)), (True and True) and (True == False), (not False) or (not True)"
   ]
  },
  {
   "cell_type": "markdown",
   "metadata": {},
   "source": [
    "Ans4: False, False, True, False, False, True"
   ]
  },
  {
   "cell_type": "markdown",
   "metadata": {},
   "source": [
    "Q5. What are the six different types of reference operators?"
   ]
  },
  {
   "cell_type": "markdown",
   "metadata": {},
   "source": [
    "Ans5: Greater than (>), Less than (<), Eqaul to (==), Not Equal to (!=), Greater than or Equal to (>=), Less than or Equal to (<=)."
   ]
  },
  {
   "cell_type": "markdown",
   "metadata": {},
   "source": [
    "Q6. How do you tell the difference between the equal to and assignment operators?"
   ]
  },
  {
   "cell_type": "markdown",
   "metadata": {},
   "source": [
    "Ans6: To assigning a value to a variable we will be using assignment operator(=) and to see the eqaulity between two variables or values we will be using Equal to(==).  "
   ]
  },
  {
   "cell_type": "markdown",
   "metadata": {},
   "source": [
    "Q7. Describe a condition and when you would use one."
   ]
  },
  {
   "cell_type": "code",
   "execution_count": 2,
   "metadata": {},
   "outputs": [
    {
     "name": "stdout",
     "output_type": "stream",
     "text": [
      "Type an Integer 5\n",
      "5  is a odd number."
     ]
    }
   ],
   "source": [
    "#To check the integer whether it is even or odd\n",
    "\n",
    "val = int(input(\"Type an Integer \"))\n",
    "\n",
    "if val%2 == 0:\n",
    "    print(val,\" is a even number\",end='.')\n",
    "else:\n",
    "    print(val,\" is a odd number\",end='.')"
   ]
  },
  {
   "cell_type": "markdown",
   "metadata": {},
   "source": [
    "Q8. Recognize the following three blocks in this code:"
   ]
  },
  {
   "cell_type": "code",
   "execution_count": 3,
   "metadata": {},
   "outputs": [
    {
     "name": "stdout",
     "output_type": "stream",
     "text": [
      "spam\n"
     ]
    }
   ],
   "source": [
    "spam = 0\n",
    "\n",
    "#Checking whether variable spam is equal to 10 or not.\n",
    "if spam == 10:\n",
    "    #If the variable spam is equal to 10 then print eggs.\n",
    "    print('eggs')\n",
    "    #Cheking whether variable spam is greater than 5 or not.\n",
    "    if spam > 5:\n",
    "        #If the variable spam is greater then 5 then print bacon.\n",
    "        print('bacon')\n",
    "    #If the above condition is not satisfied then print ham.    \n",
    "    else:\n",
    "        print('ham')\n",
    "    print('spam')\n",
    "#This block will perfectly executed if we mention else statement\n",
    "else:\n",
    "    print('spam')"
   ]
  },
  {
   "cell_type": "markdown",
   "metadata": {},
   "source": [
    "Q9. Create a programme that prints. If 1 is stored in spam, prints Hello; if 2 is stored in spam, prints Howdy; and if 3 is stored in spam, prints Salutations! if there's something else in spam."
   ]
  },
  {
   "cell_type": "code",
   "execution_count": 4,
   "metadata": {},
   "outputs": [
    {
     "name": "stdout",
     "output_type": "stream",
     "text": [
      "Type a number 25\n",
      "Try again\n"
     ]
    }
   ],
   "source": [
    "spam = float(input(\"Type a number \"))\n",
    "if spam == 1:\n",
    "    print(\"Hello\")\n",
    "elif spam == 2:\n",
    "    print(\"Howdy\")\n",
    "elif spam == 3:\n",
    "    print(\"Hello Dear\")\n",
    "else:\n",
    "    print(\"Try again\")"
   ]
  },
  {
   "cell_type": "markdown",
   "metadata": {},
   "source": [
    "Q10.If your programme is stuck in an endless loop, what keys can you press?"
   ]
  },
  {
   "cell_type": "markdown",
   "metadata": {},
   "source": [
    "Ans10:  Ctrl + C"
   ]
  },
  {
   "cell_type": "markdown",
   "metadata": {},
   "source": [
    "Q11. How can you tell the difference between break and continue?"
   ]
  },
  {
   "cell_type": "markdown",
   "metadata": {},
   "source": [
    "Ans11: The break statement terminates the loop containing it but the continue statement is used to skip the rest of the code inside a loop for the current iteration only."
   ]
  },
  {
   "cell_type": "code",
   "execution_count": 5,
   "metadata": {},
   "outputs": [
    {
     "name": "stdout",
     "output_type": "stream",
     "text": [
      "K\n",
      "a\n",
      "n\n"
     ]
    }
   ],
   "source": [
    "#Example of using break statement:\n",
    "\n",
    "a = \"Kangkan\"\n",
    "for i in a:\n",
    "    if i == \"g\":\n",
    "        break\n",
    "    print(i)"
   ]
  },
  {
   "cell_type": "code",
   "execution_count": 6,
   "metadata": {},
   "outputs": [
    {
     "name": "stdout",
     "output_type": "stream",
     "text": [
      "K\n",
      "a\n",
      "n\n",
      "k\n",
      "a\n",
      "n\n"
     ]
    }
   ],
   "source": [
    "#Example of using continue statement:\n",
    "\n",
    "a = \"Kangkan\"\n",
    "for i in a:\n",
    "    if i == \"g\":\n",
    "        continue\n",
    "    print(i)"
   ]
  },
  {
   "cell_type": "markdown",
   "metadata": {},
   "source": [
    "Q12. In a for loop, what is the difference between range(10), range(0, 10), and range(0, 10, 1)?"
   ]
  },
  {
   "cell_type": "markdown",
   "metadata": {},
   "source": [
    "Ans12: All three range function evaluates the same value. Only difference is the parameter. In range(10) we have define only 'end' parameter, In range(0,10) we have define 'start' and 'end' parameter and In range(0,10,1) we have define all three parameter which are 'start', 'stop' and 'step'."
   ]
  },
  {
   "cell_type": "markdown",
   "metadata": {},
   "source": [
    "Q13. Using a for loop, write a short programme that prints the numbers 1 to 10 Then, using a while loop, create an identical programme that prints the numbers 1 to 10."
   ]
  },
  {
   "cell_type": "code",
   "execution_count": 7,
   "metadata": {},
   "outputs": [
    {
     "name": "stdout",
     "output_type": "stream",
     "text": [
      "1\n",
      "2\n",
      "3\n",
      "4\n",
      "5\n",
      "6\n",
      "7\n",
      "8\n",
      "9\n",
      "10\n"
     ]
    }
   ],
   "source": [
    "for i in range(1,11):\n",
    "    print(i)"
   ]
  },
  {
   "cell_type": "code",
   "execution_count": 8,
   "metadata": {},
   "outputs": [
    {
     "name": "stdout",
     "output_type": "stream",
     "text": [
      "1\n",
      "2\n",
      "3\n",
      "4\n",
      "5\n",
      "6\n",
      "7\n",
      "8\n",
      "9\n",
      "10\n"
     ]
    }
   ],
   "source": [
    "a = range(1,11)\n",
    "while a == range(1,11):\n",
    "    for i in a:\n",
    "        print(i)\n",
    "    break"
   ]
  },
  {
   "cell_type": "markdown",
   "metadata": {},
   "source": [
    "Q14. If you had a bacon() function within a spam module, how  would you call it after importing spam?"
   ]
  },
  {
   "cell_type": "markdown",
   "metadata": {},
   "source": [
    "Ans14: spam.bacon()"
   ]
  }
 ],
 "metadata": {
  "kernelspec": {
   "display_name": "Python 3",
   "language": "python",
   "name": "python3"
  },
  "language_info": {
   "codemirror_mode": {
    "name": "ipython",
    "version": 3
   },
   "file_extension": ".py",
   "mimetype": "text/x-python",
   "name": "python",
   "nbconvert_exporter": "python",
   "pygments_lexer": "ipython3",
   "version": "3.7.6"
  },
  "toc": {
   "base_numbering": 1,
   "nav_menu": {},
   "number_sections": true,
   "sideBar": true,
   "skip_h1_title": false,
   "title_cell": "Table of Contents",
   "title_sidebar": "Contents",
   "toc_cell": false,
   "toc_position": {},
   "toc_section_display": true,
   "toc_window_display": false
  }
 },
 "nbformat": 4,
 "nbformat_minor": 4
}
