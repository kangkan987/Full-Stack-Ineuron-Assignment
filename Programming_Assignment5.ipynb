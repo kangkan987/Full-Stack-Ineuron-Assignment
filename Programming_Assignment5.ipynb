{
 "cells": [
  {
   "cell_type": "markdown",
   "metadata": {},
   "source": [
    "Q1.\tWrite a Python Program to Find LCM?"
   ]
  },
  {
   "cell_type": "code",
   "execution_count": 1,
   "metadata": {},
   "outputs": [],
   "source": [
    "import os\n",
    "import logging\n",
    "path = os.getcwd()\n",
    "logging.basicConfig(filename = path+'\\\\'+'lcm.log', format= '%(asctime)s %(message)s', filemode = 'w')\n",
    "\n",
    "class lcm:\n",
    "    '''LCM of two numbers'''\n",
    "    def __init__(self, number):\n",
    "        self.number = number\n",
    "            \n",
    "    def lcm_num(self):\n",
    "        '''LCM of two Numbers'''\n",
    "        try:\n",
    "            import math\n",
    "            lst = []\n",
    "            for i in self.number:\n",
    "                lst.append(i)\n",
    "            a = lst[0]\n",
    "            b = lst[1]\n",
    "            return (a/math.gcd(a,b)*b)\n",
    "        except Exception as e:\n",
    "            print(\"Check your log\")\n",
    "            logging.exception(e)\n",
    "            \n",
    "        finally:\n",
    "            try:\n",
    "                print(\"The greatest common divisor is - \",math.gcd(a,b))\n",
    "            except Exception as e:\n",
    "                logging.exception(e)"
   ]
  },
  {
   "cell_type": "code",
   "execution_count": 2,
   "metadata": {},
   "outputs": [],
   "source": [
    "l = lcm([30,45])"
   ]
  },
  {
   "cell_type": "code",
   "execution_count": 3,
   "metadata": {},
   "outputs": [
    {
     "name": "stdout",
     "output_type": "stream",
     "text": [
      "The greatest common divisor is -  15\n"
     ]
    },
    {
     "data": {
      "text/plain": [
       "90.0"
      ]
     },
     "execution_count": 3,
     "metadata": {},
     "output_type": "execute_result"
    }
   ],
   "source": [
    "l.lcm_num()"
   ]
  },
  {
   "cell_type": "markdown",
   "metadata": {},
   "source": [
    "Q2.\tWrite a Python Program to Find HCF?"
   ]
  },
  {
   "cell_type": "code",
   "execution_count": 4,
   "metadata": {},
   "outputs": [],
   "source": [
    "import os\n",
    "import logging\n",
    "logging.basicConfig(filename = os.getcwd()+'\\\\'+'hcf.log', format = '%(asctime)s %(message)s', filemode = 'w')\n",
    "\n",
    "class hcf:\n",
    "    def __init__(self, numbers):\n",
    "        self.numbers = numbers\n",
    "        \n",
    "    def hcf_num(self):\n",
    "        try:\n",
    "            a = []\n",
    "            b = []\n",
    "            for i in self.numbers:\n",
    "                for j in range(1,self.numbers[0]):\n",
    "                    a.append((self.numbers[0])/j)\n",
    "                for k in range(1,self.numbers[0]):\n",
    "                    b.append((self.numbers[1])/k)    \n",
    "            factor1 = set(a)\n",
    "            factor2 = set(b)\n",
    "            common = factor1.intersection(b)\n",
    "            return max(common)\n",
    "        except Exception as e:\n",
    "            print('Check log')\n",
    "            logging.exception(e)                   "
   ]
  },
  {
   "cell_type": "code",
   "execution_count": 5,
   "metadata": {},
   "outputs": [],
   "source": [
    "num = hcf([6,12])"
   ]
  },
  {
   "cell_type": "code",
   "execution_count": 6,
   "metadata": {},
   "outputs": [
    {
     "data": {
      "text/plain": [
       "6.0"
      ]
     },
     "execution_count": 6,
     "metadata": {},
     "output_type": "execute_result"
    }
   ],
   "source": [
    "num.hcf_num()"
   ]
  },
  {
   "cell_type": "markdown",
   "metadata": {},
   "source": [
    "Q3.\tWrite a Python Program to Convert Decimal to Binary, Octal and Hexadecimal?"
   ]
  },
  {
   "cell_type": "code",
   "execution_count": 7,
   "metadata": {},
   "outputs": [],
   "source": [
    "import os\n",
    "import logging\n",
    "logging.basicConfig(filename = os.getcwd()+'\\\\'+'number_sys.log', format = '%(asctime)s %(message)s', filemode = 'w')\n",
    "\n",
    "class number_sys:\n",
    "    def binary(self,num):\n",
    "        try:\n",
    "            if num > 1:\n",
    "                self.binary(num//2)\n",
    "            print(num%2,end='')\n",
    "                   \n",
    "        except Exception as e:\n",
    "            print('Check Log')\n",
    "            logging.exception(e)\n",
    "            \n",
    "    def octal(self,num):\n",
    "        try:\n",
    "            if num > 8:\n",
    "                self.binary(num//8)\n",
    "            print(num%8,end='')\n",
    "        except Exception as e:\n",
    "            print('Check Log')\n",
    "            logging.exception(e)\n",
    "            \n",
    "    def Hex_deci(self,num):\n",
    "        try:\n",
    "            if num > 16:\n",
    "                self.Hex_deci(num//16)\n",
    "            print(num%16, end = '')\n",
    "        except Exception as e:\n",
    "            print('Check log')\n",
    "            logging.exception(e)"
   ]
  },
  {
   "cell_type": "code",
   "execution_count": 8,
   "metadata": {},
   "outputs": [],
   "source": [
    "n = number_sys()"
   ]
  },
  {
   "cell_type": "code",
   "execution_count": 9,
   "metadata": {},
   "outputs": [
    {
     "name": "stdout",
     "output_type": "stream",
     "text": [
      "101"
     ]
    }
   ],
   "source": [
    "n.binary(5)"
   ]
  },
  {
   "cell_type": "code",
   "execution_count": 10,
   "metadata": {},
   "outputs": [
    {
     "name": "stdout",
     "output_type": "stream",
     "text": [
      "12"
     ]
    }
   ],
   "source": [
    "n.octal(10)"
   ]
  },
  {
   "cell_type": "code",
   "execution_count": 11,
   "metadata": {},
   "outputs": [
    {
     "name": "stdout",
     "output_type": "stream",
     "text": [
      "11"
     ]
    }
   ],
   "source": [
    "n.Hex_deci(17)"
   ]
  },
  {
   "cell_type": "markdown",
   "metadata": {},
   "source": [
    "Q4. Write a Python Program To Find ASCII value of a character?"
   ]
  },
  {
   "cell_type": "code",
   "execution_count": 12,
   "metadata": {},
   "outputs": [],
   "source": [
    "import os\n",
    "import logging\n",
    "logging.basicConfig(filename = os.getcwd()+'\\\\'+'ascii_value.log', format = '%(asctime)s %(message)s', filemode = 'w')\n",
    "\n",
    "class asc_ii:\n",
    "    def asc_ii_value(self):\n",
    "        self.value = input('Please provide a character - ')\n",
    "        print('ASCII Value of ',self.value,' is ',ord(self.value))"
   ]
  },
  {
   "cell_type": "code",
   "execution_count": 13,
   "metadata": {},
   "outputs": [],
   "source": [
    "val = asc_ii()"
   ]
  },
  {
   "cell_type": "code",
   "execution_count": 14,
   "metadata": {},
   "outputs": [
    {
     "name": "stdout",
     "output_type": "stream",
     "text": [
      "Please provide a character - o\n",
      "ASCII Value of  o  is  111\n"
     ]
    }
   ],
   "source": [
    "val.asc_ii_value()"
   ]
  },
  {
   "cell_type": "markdown",
   "metadata": {},
   "source": [
    "Q5.\tWrite a Python Program to Make a Simple Calculator with 4 basic mathematical operations?"
   ]
  },
  {
   "cell_type": "code",
   "execution_count": 15,
   "metadata": {},
   "outputs": [],
   "source": [
    "import os\n",
    "import logging\n",
    "logging.basicConfig(filename = os.getcwd()+'\\\\'+'calc.log', format = '%(asctime)s %(message)s', filemode = 'w')\n",
    "\n",
    "class calculator:\n",
    "    def addition(self):\n",
    "        '''give a space in between numbers'''\n",
    "        try:\n",
    "            add = 0\n",
    "            self.numbers = [int(item) for item in input(\"Enter the numbers : \").split()]\n",
    "            for i in self.numbers:\n",
    "                add += i\n",
    "            return add\n",
    "        except Exception as e:\n",
    "            print('check log')\n",
    "            logging.exception(e)\n",
    "    \n",
    "    def substraction(self):\n",
    "        try:\n",
    "            self.n1 = int(input('Provide the 1st number - '))\n",
    "            self.n2 = int(input('Provide the 2nd number - '))\n",
    "            return self.n1 - self.n2\n",
    "        except Exception as e:\n",
    "            print('check log')\n",
    "            logging.exception(e)\n",
    "    \n",
    "    def multiplication(self):\n",
    "        '''give a space in between numbers'''\n",
    "        try:\n",
    "            mul = 1\n",
    "            self.numbers2 = [int(item) for item in input(\"Enter the numbers : \").split()]\n",
    "            for i in self.numbers2:\n",
    "                mul = i * mul\n",
    "            return mul\n",
    "        except Exception as e:\n",
    "            print('check log')\n",
    "            logging.exception(e)\n",
    "            \n",
    "    def division(self):\n",
    "        '''give a space in between numbers'''\n",
    "        try:\n",
    "            self.n3 = int(input('Provide the 1st number - '))\n",
    "            self.n4 = int(input('Provide the 2nd number - '))\n",
    "            return self.n3 / self.n4\n",
    "        except Exception as e:\n",
    "            print('check log')\n",
    "            logging.exception(e)\n",
    "            \n",
    "    def operation(self):\n",
    "        '''For addition and multiplication use space in between numbers'''\n",
    "        self.oper = input('Provide the Sign of the Operator - ')\n",
    "        print('You select ',self.oper,' operator')\n",
    "        try:\n",
    "            if self.oper == '*':\n",
    "                return self.multiplication()\n",
    "            elif self.oper == '-':\n",
    "                return self.substraction()\n",
    "            elif self.oper == '+':\n",
    "                return self.addition()\n",
    "            elif self.oper == '/':\n",
    "                return self.division()\n",
    "            else:\n",
    "                print('Operator is not available')\n",
    "        except Exception as e:\n",
    "            print('check log')\n",
    "            logging.exception(e)"
   ]
  },
  {
   "cell_type": "code",
   "execution_count": 16,
   "metadata": {},
   "outputs": [],
   "source": [
    "n = calculator()"
   ]
  },
  {
   "cell_type": "code",
   "execution_count": 17,
   "metadata": {},
   "outputs": [
    {
     "name": "stdout",
     "output_type": "stream",
     "text": [
      "Provide the Sign of the Operator - /\n",
      "You select  /  operator\n",
      "Provide the 1st number - 5\n",
      "Provide the 2nd number - 2\n"
     ]
    },
    {
     "data": {
      "text/plain": [
       "2.5"
      ]
     },
     "execution_count": 17,
     "metadata": {},
     "output_type": "execute_result"
    }
   ],
   "source": [
    "n.operation()"
   ]
  },
  {
   "cell_type": "code",
   "execution_count": 18,
   "metadata": {},
   "outputs": [
    {
     "name": "stdout",
     "output_type": "stream",
     "text": [
      "Provide the Sign of the Operator - +\n",
      "You select  +  operator\n",
      "Enter the numbers : 8 2 3 4\n"
     ]
    },
    {
     "data": {
      "text/plain": [
       "17"
      ]
     },
     "execution_count": 18,
     "metadata": {},
     "output_type": "execute_result"
    }
   ],
   "source": [
    "n.operation()"
   ]
  },
  {
   "cell_type": "code",
   "execution_count": null,
   "metadata": {},
   "outputs": [],
   "source": []
  }
 ],
 "metadata": {
  "kernelspec": {
   "display_name": "Python 3",
   "language": "python",
   "name": "python3"
  },
  "language_info": {
   "codemirror_mode": {
    "name": "ipython",
    "version": 3
   },
   "file_extension": ".py",
   "mimetype": "text/x-python",
   "name": "python",
   "nbconvert_exporter": "python",
   "pygments_lexer": "ipython3",
   "version": "3.7.6"
  },
  "toc": {
   "base_numbering": 1,
   "nav_menu": {},
   "number_sections": true,
   "sideBar": true,
   "skip_h1_title": false,
   "title_cell": "Table of Contents",
   "title_sidebar": "Contents",
   "toc_cell": false,
   "toc_position": {},
   "toc_section_display": true,
   "toc_window_display": false
  }
 },
 "nbformat": 4,
 "nbformat_minor": 4
}
