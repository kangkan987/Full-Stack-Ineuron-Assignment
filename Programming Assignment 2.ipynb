{
 "cells": [
  {
   "cell_type": "markdown",
   "metadata": {},
   "source": [
    "Q1.\tWrite a Python program to convert kilometers to miles?"
   ]
  },
  {
   "cell_type": "code",
   "execution_count": 1,
   "metadata": {},
   "outputs": [
    {
     "name": "stdout",
     "output_type": "stream",
     "text": [
      "Type kilometre 5\n",
      "3.106855  Miles = 5.0  kilometre\n"
     ]
    }
   ],
   "source": [
    "km = float(input('Type kilometre '))\n",
    "\n",
    "#Conversion:\n",
    "\n",
    "Miles = km*0.621371\n",
    "print(Miles,' Miles =',km,' kilometre')"
   ]
  },
  {
   "cell_type": "markdown",
   "metadata": {},
   "source": [
    "Q2.\tWrite a Python program to convert Celsius to Fahrenheit?"
   ]
  },
  {
   "cell_type": "code",
   "execution_count": 2,
   "metadata": {},
   "outputs": [
    {
     "name": "stdout",
     "output_type": "stream",
     "text": [
      "Please type the celsius value 120\n",
      "120.0  celsius = 248.0  fahrenheit\n"
     ]
    }
   ],
   "source": [
    "temperature = float(input('Please type the celsius value '))\n",
    "\n",
    "#Conversion\n",
    "\n",
    "temp_far = (temperature*(9/5))+32\n",
    "\n",
    "print(temperature,' celsius =',temp_far,' fahrenheit')"
   ]
  },
  {
   "cell_type": "markdown",
   "metadata": {},
   "source": [
    "Q3.\tWrite a Python program to display calendar?"
   ]
  },
  {
   "cell_type": "code",
   "execution_count": 3,
   "metadata": {},
   "outputs": [
    {
     "name": "stdout",
     "output_type": "stream",
     "text": [
      "     March 2021\n",
      "Mo Tu We Th Fr Sa Su\n",
      " 1  2  3  4  5  6  7\n",
      " 8  9 10 11 12 13 14\n",
      "15 16 17 18 19 20 21\n",
      "22 23 24 25 26 27 28\n",
      "29 30 31\n",
      "\n"
     ]
    }
   ],
   "source": [
    "import calendar\n",
    "yy = 2021\n",
    "mm = 3\n",
    "\n",
    "# Printing Calender\n",
    "print(calendar.month(yy, mm))"
   ]
  },
  {
   "cell_type": "markdown",
   "metadata": {},
   "source": [
    "Q4. Write a Python program to solve quadratic equation?"
   ]
  },
  {
   "cell_type": "code",
   "execution_count": 4,
   "metadata": {},
   "outputs": [
    {
     "name": "stdout",
     "output_type": "stream",
     "text": [
      "Give value for a 2\n",
      "Give value for b 8\n",
      "Give value for c 1\n",
      "x =  -0.12917130661302934  or  -3.8708286933869704\n"
     ]
    }
   ],
   "source": [
    "a = int(input('Give value for a '))\n",
    "b = int(input('Give value for b '))\n",
    "c = int(input('Give value for c '))\n",
    "\n",
    "\n",
    "#part1:\n",
    "e = (b**2 - 4*a*c)**0.5\n",
    "\n",
    "#part2:\n",
    "f = 2*a\n",
    "\n",
    "Result1 = (-b+e)/f\n",
    "Result2 = (-b-e)/f\n",
    "\n",
    "print('x = ',Result1,' or ',Result2)"
   ]
  },
  {
   "cell_type": "markdown",
   "metadata": {},
   "source": [
    "Q5.\tWrite a Python program to swap two variables without temp variable?"
   ]
  },
  {
   "cell_type": "code",
   "execution_count": 5,
   "metadata": {},
   "outputs": [
    {
     "name": "stdout",
     "output_type": "stream",
     "text": [
      "v1 is -  24 \n",
      "v2 is -  23\n"
     ]
    }
   ],
   "source": [
    "v1 = 23\n",
    "v2 = 24\n",
    "\n",
    "#Swaping\n",
    "v1, v2 = v2, v1\n",
    "\n",
    "print('v1 is - ',v1,'\\n''v2 is - ',v2)"
   ]
  }
 ],
 "metadata": {
  "kernelspec": {
   "display_name": "Python 3",
   "language": "python",
   "name": "python3"
  },
  "language_info": {
   "codemirror_mode": {
    "name": "ipython",
    "version": 3
   },
   "file_extension": ".py",
   "mimetype": "text/x-python",
   "name": "python",
   "nbconvert_exporter": "python",
   "pygments_lexer": "ipython3",
   "version": "3.7.6"
  },
  "toc": {
   "base_numbering": 1,
   "nav_menu": {},
   "number_sections": true,
   "sideBar": true,
   "skip_h1_title": false,
   "title_cell": "Table of Contents",
   "title_sidebar": "Contents",
   "toc_cell": false,
   "toc_position": {},
   "toc_section_display": true,
   "toc_window_display": false
  }
 },
 "nbformat": 4,
 "nbformat_minor": 4
}
