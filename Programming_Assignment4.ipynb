{
 "cells": [
  {
   "cell_type": "markdown",
   "metadata": {},
   "source": [
    "Q1. Write a Python Program to Find the Factorial of a Number?"
   ]
  },
  {
   "cell_type": "code",
   "execution_count": 1,
   "metadata": {},
   "outputs": [
    {
     "name": "stdout",
     "output_type": "stream",
     "text": [
      "Type your desired factorial number 5\n"
     ]
    },
    {
     "data": {
      "text/plain": [
       "120"
      ]
     },
     "execution_count": 1,
     "metadata": {},
     "output_type": "execute_result"
    }
   ],
   "source": [
    "number = int(input('Type your desired factorial number '))\n",
    "factorial = 1\n",
    "for i in range(1,(number+1)):\n",
    "    factorial *=i\n",
    "factorial"
   ]
  },
  {
   "cell_type": "markdown",
   "metadata": {},
   "source": [
    "Q2. Write a Python Program to Display the multiplication Table?"
   ]
  },
  {
   "cell_type": "code",
   "execution_count": 2,
   "metadata": {},
   "outputs": [
    {
     "name": "stdout",
     "output_type": "stream",
     "text": [
      "Table of - 9\n",
      "1 * 9 = 9\n",
      "2 * 9 = 18\n",
      "3 * 9 = 27\n",
      "4 * 9 = 36\n",
      "5 * 9 = 45\n",
      "6 * 9 = 54\n",
      "7 * 9 = 63\n",
      "8 * 9 = 72\n",
      "9 * 9 = 81\n",
      "10 * 9 = 90\n"
     ]
    }
   ],
   "source": [
    "table_of = int(input('Table of - '))\n",
    "\n",
    "for i in range(1,11):\n",
    "    print(str(i),'*',str(table_of), '=' ,i*table_of)"
   ]
  },
  {
   "cell_type": "markdown",
   "metadata": {},
   "source": [
    "Q4. Write a Python Program to Check Armstrong Number?"
   ]
  },
  {
   "cell_type": "code",
   "execution_count": 3,
   "metadata": {},
   "outputs": [
    {
     "name": "stdout",
     "output_type": "stream",
     "text": [
      "Type a Number 153\n",
      "Your input number is  153 \n",
      "Sum of cubes of its digits =  153 \n",
      "It is a Armstrong Number\n"
     ]
    }
   ],
   "source": [
    "a = input(\"Type a Number \")\n",
    "b = []\n",
    "c = []\n",
    "sum_ = 0\n",
    "for i in a:\n",
    "    i = str(int(i))\n",
    "    b.append(i)\n",
    "for j in b:\n",
    "    j = int(j)\n",
    "    c.append(j)\n",
    "for k in c:\n",
    "    sum_ = sum_+k**3\n",
    "new_num = ''.join(b)\n",
    "new_num1 = int(new_num)\n",
    "if sum_ == new_num1:\n",
    "    print('Your input number is ',a,'\\n''Sum of cubes of its digits = ',sum_,'\\n''It is a Armstrong Number')\n",
    "else:\n",
    "    print('Your input number is ',a,'\\n''Sum of cubes of its digits = ',sum_,'\\n''It is not a Armstrong Number')\n",
    "    "
   ]
  },
  {
   "cell_type": "markdown",
   "metadata": {},
   "source": [
    "Q5.\tWrite a Python Program to Find Armstrong Number in an Interval?"
   ]
  },
  {
   "cell_type": "code",
   "execution_count": 4,
   "metadata": {},
   "outputs": [
    {
     "name": "stdout",
     "output_type": "stream",
     "text": [
      "Provide the Interval - 500\n",
      "\u001b[4mList of Armstrong Numbers :\u001b[0m \n",
      " \n",
      " [0, 1, 153, 370, 371, 407]\n"
     ]
    }
   ],
   "source": [
    "# Give the range of numbers till where you want to print the Armstrong number\n",
    "input_range = int(input('Provide the Interval - '))\n",
    "\n",
    "str_num = []\n",
    "spaced_num = []\n",
    "split_num = []\n",
    "cubes_ele = []\n",
    "\n",
    "for n in range(input_range):\n",
    "    n = str(n)\n",
    "    str_num.append(n)\n",
    "for number in str_num:\n",
    "    number = ' '.join(number) \n",
    "    spaced_num.append(number)    \n",
    "for number1 in spaced_num:\n",
    "    number1 = number1.split()\n",
    "    split_num.append((number1))\n",
    "# Split the str number and convert to integer    \n",
    "for number2 in split_num:\n",
    "    number2 = list(map(int,number2))\n",
    "    cubes_ele.append(number2)\n",
    "\n",
    "# Define a function for cube    \n",
    "def cubes(lst):\n",
    "    for i, element in enumerate(lst):\n",
    "        if isinstance(element, list):\n",
    "            cubes(element)\n",
    "        else:\n",
    "            lst[i] = lst[i]**3\n",
    "    return lst\n",
    "\n",
    "# Get the list of cubes of all digits in numbers\n",
    "list(map(cubes,cubes_ele))\n",
    "# Sum of the cubes of all digit in numbers\n",
    "Sum_of_cubes_num = list(map(sum,cubes_ele))\n",
    "\n",
    "original = []\n",
    "for i in range(input_range):\n",
    "    original.append(i)\n",
    "\n",
    "# Initialize the index    \n",
    "_index = 0\n",
    "list_arm_num = []\n",
    "\n",
    "# Get the numbers which are located in the same index of both of the list\n",
    "for x in original:\n",
    "    if original[_index] == Sum_of_cubes_num[_index]:\n",
    "        list_arm_num.append(x)\n",
    "    _index = _index + 1\n",
    "    \n",
    "print(\"\\033[4mList of Armstrong Numbers :\\033[0m\",'\\n','\\n',list_arm_num)"
   ]
  },
  {
   "cell_type": "markdown",
   "metadata": {},
   "source": [
    "Q3. Write a Python Program to Print the Fibonacci sequence?"
   ]
  },
  {
   "cell_type": "code",
   "execution_count": 5,
   "metadata": {},
   "outputs": [
    {
     "name": "stdout",
     "output_type": "stream",
     "text": [
      "0\n",
      "1\n",
      "1\n",
      "2\n",
      "3\n",
      "5\n",
      "8\n",
      "13\n",
      "21\n"
     ]
    }
   ],
   "source": [
    "a,b=0,1\n",
    "print(a)\n",
    "while b<30:\n",
    "    print(b)\n",
    "    a,b = b,a+b"
   ]
  }
 ],
 "metadata": {
  "kernelspec": {
   "display_name": "Python 3",
   "language": "python",
   "name": "python3"
  },
  "language_info": {
   "codemirror_mode": {
    "name": "ipython",
    "version": 3
   },
   "file_extension": ".py",
   "mimetype": "text/x-python",
   "name": "python",
   "nbconvert_exporter": "python",
   "pygments_lexer": "ipython3",
   "version": "3.7.6"
  },
  "toc": {
   "base_numbering": 1,
   "nav_menu": {},
   "number_sections": true,
   "sideBar": true,
   "skip_h1_title": false,
   "title_cell": "Table of Contents",
   "title_sidebar": "Contents",
   "toc_cell": false,
   "toc_position": {},
   "toc_section_display": true,
   "toc_window_display": false
  }
 },
 "nbformat": 4,
 "nbformat_minor": 4
}
